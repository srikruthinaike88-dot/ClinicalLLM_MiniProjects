{
  "cells": [
    {
      "cell_type": "markdown",
      "metadata": {
        "id": "view-in-github",
        "colab_type": "text"
      },
      "source": [
        "<a href=\"https://colab.research.google.com/github/srikruthinaike88-dot/ClinicalLLM_MiniProjects/blob/main/Clinical_Python_Crash_Course_Day2_ipyn.ipynb\" target=\"_parent\"><img src=\"https://colab.research.google.com/assets/colab-badge.svg\" alt=\"Open In Colab\"/></a>"
      ]
    },
    {
      "cell_type": "markdown",
      "metadata": {
        "id": "jniX2q7EvIlq"
      },
      "source": [
        "# Clinical Python Crash Course – Day 2 (Beginner)\n",
        "Welcome, Srikruthi! This notebook is designed for beginners to practice Python using **clinical examples**. Run each cell by tapping the ▶️ button."
      ],
      "id": "jniX2q7EvIlq"
    },
    {
      "cell_type": "code",
      "metadata": {
        "id": "GBOmiCjRvIlx",
        "outputId": "0427717b-372b-4961-bd43-11a87096f8be",
        "colab": {
          "base_uri": "https://localhost:8080/"
        }
      },
      "source": [
        "# Section 1: Hello World & Basic Print\n",
        "print(\"Hello, Clinical Python!\")\n",
        "patient_name = \"Srikruthi\"\n",
        "print(\"Patient Name:\", patient_name)"
      ],
      "id": "GBOmiCjRvIlx",
      "execution_count": null,
      "outputs": [
        {
          "output_type": "stream",
          "name": "stdout",
          "text": [
            "Hello, Clinical Python!\n",
            "Patient Name: Srikruthi\n"
          ]
        }
      ]
    },
    {
      "cell_type": "markdown",
      "source": [
        "Functions that I learnt:\n",
        "\\n =next line string  \n",
        ".upper=to get capital letters\n",
        ".lower=small letters\n",
        "(is upper) to get true or false\n",
        "len () = count the strings in the variable i mean ut will give how many letters are there in the variable."
      ],
      "metadata": {
        "id": "XRhrers7nwTn"
      },
      "id": "XRhrers7nwTn"
    },
    {
      "cell_type": "code",
      "source": [
        "print(\"Hello,Clinical Python\")\n",
        "patient_names = \"Arun \\nSrikruthi\"\n",
        "print(len(patient_names))"
      ],
      "metadata": {
        "colab": {
          "base_uri": "https://localhost:8080/"
        },
        "id": "Q9udq4rpnkG-",
        "outputId": "d0785fff-bbc6-45a9-83ab-1d6e42088550"
      },
      "id": "Q9udq4rpnkG-",
      "execution_count": null,
      "outputs": [
        {
          "output_type": "stream",
          "name": "stdout",
          "text": [
            "Hello,Clinical Python\n",
            "15\n"
          ]
        }
      ]
    },
    {
      "cell_type": "code",
      "metadata": {
        "id": "SDdKuL4NvIlz",
        "colab": {
          "base_uri": "https://localhost:8080/"
        },
        "outputId": "4c909f6c-b174-4572-c7b4-a14a670a8454"
      },
      "source": [
        "# Section 2: Variables & Data Types (Clinical Examples)\n",
        "age = 45  # patient age\n",
        "temperature = 102.5  # Fahrenheit\n",
        "blood_pressure = \"130/85\"  # mmHg\n",
        "print(f\"Patient age: {age}, Temperature: {temperature}, BP: {blood_pressure}\")\n",
        "\n",
        "# Auto-check example\n",
        "assert isinstance(age, int), \"Check failed: age should be an integer\"\n",
        "assert isinstance(temperature, float), \"Check failed: temperature should be a float\""
      ],
      "id": "SDdKuL4NvIlz",
      "execution_count": null,
      "outputs": [
        {
          "output_type": "stream",
          "name": "stdout",
          "text": [
            "Patient age: 45, Temperature: 102.5, BP: 130/85\n"
          ]
        }
      ]
    },
    {
      "cell_type": "code",
      "metadata": {
        "id": "sHKe72xMvIl0",
        "colab": {
          "base_uri": "https://localhost:8080/"
        },
        "outputId": "c592c381-17be-435d-a730-03f9fd5b183c"
      },
      "source": [
        "# Section 3: Lists & Dictionaries\n",
        "patients = [\"John\", \"Mary\", \"Alex\"]\n",
        "vitals = {\n",
        "    \"John\": {\"BP\": \"130/85\", \"Temp\": 102.5},\n",
        "    \"Mary\": {\"BP\": \"120/80\", \"Temp\": 98.6},\n",
        "    \"Alex\": {\"BP\": \"140/90\", \"Temp\": 101}\n",
        "}\n",
        "print(\"Patient list:\", patients)\n",
        "print(\"Vitals:\", vitals)"
      ],
      "id": "sHKe72xMvIl0",
      "execution_count": null,
      "outputs": [
        {
          "output_type": "stream",
          "name": "stdout",
          "text": [
            "Patient list: ['John', 'Mary', 'Alex']\n",
            "Vitals: {'John': {'BP': '130/85', 'Temp': 102.5}, 'Mary': {'BP': '120/80', 'Temp': 98.6}, 'Alex': {'BP': '140/90', 'Temp': 101}}\n"
          ]
        }
      ]
    },
    {
      "cell_type": "code",
      "source": [],
      "metadata": {
        "id": "FnoVteNvvb8F"
      },
      "id": "FnoVteNvvb8F",
      "execution_count": null,
      "outputs": []
    },
    {
      "cell_type": "markdown",
      "source": [],
      "metadata": {
        "id": "8ixxgO31vdDz"
      },
      "id": "8ixxgO31vdDz"
    },
    {
      "cell_type": "code",
      "metadata": {
        "id": "qmRo74NvvIl0"
      },
      "source": [
        "# Section 4: Conditional Logic\n",
        "for patient, info in vitals.items():\n",
        "    if info['Temp'] > 100:\n",
        "        print(f\"{patient} has a fever!\")\n",
        "    else:\n",
        "        print(f\"{patient} is normal.\")"
      ],
      "id": "qmRo74NvvIl0",
      "execution_count": null,
      "outputs": []
    },
    {
      "cell_type": "code",
      "metadata": {
        "id": "H1oPvr0xvIl1"
      },
      "source": [
        "# Section 5: Loops\n",
        "for patient in patients:\n",
        "    print(f\"Reviewing patient: {patient}\")"
      ],
      "id": "H1oPvr0xvIl1",
      "execution_count": null,
      "outputs": []
    },
    {
      "cell_type": "code",
      "metadata": {
        "id": "JQ1StpUGvIl1"
      },
      "source": [
        "# Section 6: Functions (Calculate BMI)\n",
        "def calculate_bmi(weight_kg, height_m):\n",
        "    bmi = weight_kg / (height_m**2)\n",
        "    return bmi\n",
        "\n",
        "# Example\n",
        "bmi_john = calculate_bmi(70, 1.75)\n",
        "print(\"John's BMI:\", bmi_john)\n",
        "\n",
        "# Auto-check\n",
        "assert round(bmi_john,1) == 22.9, \"Check failed: BMI calculation is incorrect\""
      ],
      "id": "JQ1StpUGvIl1",
      "execution_count": null,
      "outputs": []
    },
    {
      "cell_type": "code",
      "metadata": {
        "id": "23r0neyEvIl1",
        "colab": {
          "base_uri": "https://localhost:8080/"
        },
        "outputId": "efecc342-d2ea-4ff4-d071-9328c499e031"
      },
      "source": [
        "# Section 7: Mini Practice Challenge\n",
        "mock_patients = [\n",
        "    {\"name\": \"Alice\", \"Temp\": 99.1},\n",
        "    {\"name\": \"Bob\", \"Temp\": 101.3},\n",
        "    {\"name\": \"Charlie\", \"Temp\": 100.5}\n",
        "]\n",
        "\n",
        "for p in mock_patients:\n",
        "    if p['Temp'] > 100:\n",
        "        print(f\"{p['name']} has a fever\")\n",
        "    else:\n",
        "        print(f\"{p['name']} is normal\")"
      ],
      "id": "23r0neyEvIl1",
      "execution_count": null,
      "outputs": [
        {
          "output_type": "stream",
          "name": "stdout",
          "text": [
            "Alice is normal\n",
            "Bob has a fever\n",
            "Charlie has a fever\n"
          ]
        }
      ]
    }
  ],
  "metadata": {
    "kernelspec": {
      "display_name": "Python 3",
      "language": "python",
      "name": "python3"
    },
    "language_info": {
      "name": "python",
      "version": "3.10"
    },
    "colab": {
      "provenance": [],
      "include_colab_link": true
    }
  },
  "nbformat": 4,
  "nbformat_minor": 5
}